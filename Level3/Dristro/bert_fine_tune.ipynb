{
  "cells": [
    {
      "cell_type": "markdown",
      "id": "9dfc6338-9326-4af7-919d-ef5f9db86faa",
      "metadata": {
        "id": "9dfc6338-9326-4af7-919d-ef5f9db86faa"
      },
      "source": [
        "# Getting the data ready"
      ]
    },
    {
      "cell_type": "markdown",
      "id": "26227c33-be5f-4acc-b8a0-b5c656753042",
      "metadata": {
        "id": "26227c33-be5f-4acc-b8a0-b5c656753042"
      },
      "source": [
        "## Parse the text"
      ]
    },
    {
      "cell_type": "code",
      "execution_count": 1,
      "id": "9d00b01d-fcac-43dc-ab75-8a2131393e0d",
      "metadata": {
        "id": "9d00b01d-fcac-43dc-ab75-8a2131393e0d"
      },
      "outputs": [],
      "source": [
        "import re\n",
        "from torch.utils.data import Dataset, DataLoader\n",
        "from transformers import BertTokenizer\n",
        "\n",
        "class MedicalAbstractDataset(Dataset):\n",
        "    def __init__(self, file_path, tokenizer, label_map, max_length=512):\n",
        "        self.examples = []\n",
        "        self.tokenizer = tokenizer\n",
        "        self.label_map = label_map\n",
        "        self.max_length = max_length\n",
        "\n",
        "        with open(file_path, 'r') as file:\n",
        "            current_id = None\n",
        "            for line in file:\n",
        "                line = line.strip()\n",
        "                if line.startswith(\"###\"):  # New document ID\n",
        "                    current_id = line\n",
        "                elif re.match(r'^[A-Z]+', line.split(\"\\t\")[0]):\n",
        "                    # Split line to get label and text\n",
        "                    section = line.split(\"\\t\")\n",
        "                    label = section[0]\n",
        "                    text = section[1]\n",
        "\n",
        "                    if label in self.label_map:\n",
        "                        self.examples.append((current_id, label, text))\n",
        "\n",
        "    def __len__(self):\n",
        "        return len(self.examples)\n",
        "\n",
        "    def __getitem__(self, idx):\n",
        "        _, label, text = self.examples[idx]\n",
        "        label_id = self.label_map[label]\n",
        "        encoding = self.tokenizer(\n",
        "            text,\n",
        "            padding='max_length',\n",
        "            truncation=True,\n",
        "            max_length=self.max_length,\n",
        "            return_tensors='pt'\n",
        "        )\n",
        "\n",
        "        input_ids = encoding['input_ids'].squeeze()\n",
        "        attention_mask = encoding['attention_mask'].squeeze()\n",
        "\n",
        "        return {\n",
        "            'input_ids': input_ids,\n",
        "            'attention_mask': attention_mask,\n",
        "            'label': torch.tensor(label_id, dtype=torch.long)\n",
        "        }"
      ]
    },
    {
      "cell_type": "markdown",
      "id": "2043aa20-e1fa-457b-939c-f8c484bd39a9",
      "metadata": {
        "id": "2043aa20-e1fa-457b-939c-f8c484bd39a9"
      },
      "source": [
        "## Create output label mappings (classes)"
      ]
    },
    {
      "cell_type": "code",
      "execution_count": 2,
      "id": "9c1b0795-5e58-42d3-b737-de173f5c452e",
      "metadata": {
        "id": "9c1b0795-5e58-42d3-b737-de173f5c452e"
      },
      "outputs": [],
      "source": [
        "label_map = {\n",
        "    'BACKGROUND': 0,\n",
        "    'OBJECTIVE': 1,\n",
        "    'METHODS': 2,\n",
        "    'RESULTS': 3,\n",
        "    'CONCLUSIONS': 4\n",
        "}"
      ]
    },
    {
      "cell_type": "markdown",
      "id": "6e4659ba-c1e5-4a2a-9a8e-37810676b223",
      "metadata": {
        "id": "6e4659ba-c1e5-4a2a-9a8e-37810676b223"
      },
      "source": [
        "## Build BERT tokenizer"
      ]
    },
    {
      "cell_type": "code",
      "execution_count": 3,
      "id": "6360387d-5fb2-4d22-ac16-8389a292eb4b",
      "metadata": {
        "colab": {
          "base_uri": "https://localhost:8080/"
        },
        "id": "6360387d-5fb2-4d22-ac16-8389a292eb4b",
        "outputId": "3e63806e-11c2-4236-e84d-894d3c704999"
      },
      "outputs": [
        {
          "output_type": "stream",
          "name": "stderr",
          "text": [
            "/usr/local/lib/python3.10/dist-packages/huggingface_hub/utils/_token.py:89: UserWarning: \n",
            "The secret `HF_TOKEN` does not exist in your Colab secrets.\n",
            "To authenticate with the Hugging Face Hub, create a token in your settings tab (https://huggingface.co/settings/tokens), set it as secret in your Google Colab and restart your session.\n",
            "You will be able to reuse this secret in all of your notebooks.\n",
            "Please note that authentication is recommended but still optional to access public models or datasets.\n",
            "  warnings.warn(\n",
            "/usr/local/lib/python3.10/dist-packages/transformers/tokenization_utils_base.py:1601: FutureWarning: `clean_up_tokenization_spaces` was not set. It will be set to `True` by default. This behavior will be depracted in transformers v4.45, and will be then set to `False` by default. For more details check this issue: https://github.com/huggingface/transformers/issues/31884\n",
            "  warnings.warn(\n"
          ]
        }
      ],
      "source": [
        "tokenizer = BertTokenizer.from_pretrained('bert-base-uncased')"
      ]
    },
    {
      "cell_type": "markdown",
      "id": "dbfbfe04-4712-429c-af1d-6521f6093d4d",
      "metadata": {
        "id": "dbfbfe04-4712-429c-af1d-6521f6093d4d"
      },
      "source": [
        "## Create torch dataloaders"
      ]
    },
    {
      "cell_type": "code",
      "source": [
        "!wget \"https://raw.githubusercontent.com/Franck-Dernoncourt/pubmed-rct/refs/heads/master/PubMed_20k_RCT/train.txt\"\n",
        "!wget \"https://raw.githubusercontent.com/Franck-Dernoncourt/pubmed-rct/refs/heads/master/PubMed_20k_RCT/test.txt\""
      ],
      "metadata": {
        "colab": {
          "base_uri": "https://localhost:8080/"
        },
        "id": "I7aEOf1lM5VH",
        "outputId": "9b8a73b9-5533-47a8-c194-476909a3596e"
      },
      "id": "I7aEOf1lM5VH",
      "execution_count": 4,
      "outputs": [
        {
          "output_type": "stream",
          "name": "stdout",
          "text": [
            "--2024-11-01 15:23:30--  https://raw.githubusercontent.com/Franck-Dernoncourt/pubmed-rct/refs/heads/master/PubMed_20k_RCT/train.txt\n",
            "Resolving raw.githubusercontent.com (raw.githubusercontent.com)... 185.199.108.133, 185.199.109.133, 185.199.110.133, ...\n",
            "Connecting to raw.githubusercontent.com (raw.githubusercontent.com)|185.199.108.133|:443... connected.\n",
            "HTTP request sent, awaiting response... 200 OK\n",
            "Length: 29384101 (28M) [text/plain]\n",
            "Saving to: ‘train.txt.2’\n",
            "\n",
            "\rtrain.txt.2           0%[                    ]       0  --.-KB/s               \rtrain.txt.2         100%[===================>]  28.02M  --.-KB/s    in 0.07s   \n",
            "\n",
            "2024-11-01 15:23:30 (416 MB/s) - ‘train.txt.2’ saved [29384101/29384101]\n",
            "\n",
            "--2024-11-01 15:23:30--  https://raw.githubusercontent.com/Franck-Dernoncourt/pubmed-rct/refs/heads/master/PubMed_20k_RCT/test.txt\n",
            "Resolving raw.githubusercontent.com (raw.githubusercontent.com)... 185.199.111.133, 185.199.108.133, 185.199.110.133, ...\n",
            "Connecting to raw.githubusercontent.com (raw.githubusercontent.com)|185.199.111.133|:443... connected.\n",
            "HTTP request sent, awaiting response... 200 OK\n",
            "Length: 4889845 (4.7M) [text/plain]\n",
            "Saving to: ‘test.txt.2’\n",
            "\n",
            "test.txt.2          100%[===================>]   4.66M  --.-KB/s    in 0.01s   \n",
            "\n",
            "2024-11-01 15:23:30 (381 MB/s) - ‘test.txt.2’ saved [4889845/4889845]\n",
            "\n"
          ]
        }
      ]
    },
    {
      "cell_type": "code",
      "execution_count": 5,
      "id": "290bae08-5fba-4c4c-8980-71e70394783c",
      "metadata": {
        "colab": {
          "base_uri": "https://localhost:8080/"
        },
        "id": "290bae08-5fba-4c4c-8980-71e70394783c",
        "outputId": "55356e32-5ce4-4693-be9a-284fd7bd0791"
      },
      "outputs": [
        {
          "output_type": "execute_result",
          "data": {
            "text/plain": [
              "(<torch.utils.data.dataloader.DataLoader at 0x7adc49c29f00>,\n",
              " <torch.utils.data.dataloader.DataLoader at 0x7adc49c2a020>)"
            ]
          },
          "metadata": {},
          "execution_count": 5
        }
      ],
      "source": [
        "import torch\n",
        "import os\n",
        "root_dir = os.getcwd()\n",
        "train_dir = root_dir + \"/train.txt\"\n",
        "test_dir = root_dir + \"/test.txt\"\n",
        "cpu_count = os.cpu_count()\n",
        "BATCH_SIZE = 128\n",
        "NUM_WORKERS = cpu_count\n",
        "MAX_LENGTH = 256\n",
        "\n",
        "train_data = MedicalAbstractDataset(train_dir, tokenizer, label_map, max_length=MAX_LENGTH)\n",
        "test_data = MedicalAbstractDataset(test_dir, tokenizer, label_map, max_length=MAX_LENGTH)\n",
        "\n",
        "train_dataloader = DataLoader(train_data, batch_size=BATCH_SIZE, shuffle=True, num_workers=NUM_WORKERS)\n",
        "test_dataloader = DataLoader(test_data, batch_size=BATCH_SIZE, shuffle=True, num_workers=NUM_WORKERS)\n",
        "\n",
        "train_dataloader, test_dataloader"
      ]
    },
    {
      "cell_type": "code",
      "execution_count": 6,
      "id": "3c5abea4-a119-4ff3-a965-c693bd9aaef4",
      "metadata": {
        "colab": {
          "base_uri": "https://localhost:8080/"
        },
        "id": "3c5abea4-a119-4ff3-a965-c693bd9aaef4",
        "outputId": "e7878e34-ac95-4e61-bf3f-a0ff5090d72c"
      },
      "outputs": [
        {
          "output_type": "stream",
          "name": "stdout",
          "text": [
            "Input IDs shape: torch.Size([128, 256])\n",
            "Attention mask shape: torch.Size([128, 256])\n",
            "Labels shape: torch.Size([128])\n"
          ]
        }
      ],
      "source": [
        "### Verify the train dataloader\n",
        "for batch in train_dataloader:\n",
        "    input_ids = batch['input_ids']\n",
        "    attention_mask = batch['attention_mask']\n",
        "    labels = batch['label']\n",
        "\n",
        "    print(\"Input IDs shape:\", input_ids.shape)\n",
        "    print(\"Attention mask shape:\", attention_mask.shape)\n",
        "    print(\"Labels shape:\", labels.shape)\n",
        "\n",
        "    break"
      ]
    },
    {
      "cell_type": "code",
      "execution_count": 7,
      "id": "00f2a14b-7824-47f2-8b73-463990d41e84",
      "metadata": {
        "colab": {
          "base_uri": "https://localhost:8080/"
        },
        "id": "00f2a14b-7824-47f2-8b73-463990d41e84",
        "outputId": "15216650-9cd4-4c21-b683-9f65558c5f85"
      },
      "outputs": [
        {
          "output_type": "stream",
          "name": "stdout",
          "text": [
            "Input IDs shape: torch.Size([128, 256])\n",
            "Attention mask shape: torch.Size([128, 256])\n",
            "Labels shape: torch.Size([128])\n"
          ]
        }
      ],
      "source": [
        "### Verify the test dataloader\n",
        "for batch in test_dataloader:\n",
        "    input_ids = batch['input_ids']\n",
        "    attention_mask = batch['attention_mask']\n",
        "    labels = batch['label']\n",
        "\n",
        "    print(\"Input IDs shape:\", input_ids.shape)\n",
        "    print(\"Attention mask shape:\", attention_mask.shape)\n",
        "    print(\"Labels shape:\", labels.shape)\n",
        "\n",
        "    break"
      ]
    },
    {
      "cell_type": "markdown",
      "id": "322d11d0-b39d-4a3e-8c61-a68cb54b7001",
      "metadata": {
        "id": "322d11d0-b39d-4a3e-8c61-a68cb54b7001"
      },
      "source": [
        "# Modelling"
      ]
    },
    {
      "cell_type": "markdown",
      "id": "57d94166-b774-4d65-b4ae-abc7c7d9df0e",
      "metadata": {
        "id": "57d94166-b774-4d65-b4ae-abc7c7d9df0e"
      },
      "source": [
        "## Getting the model ready"
      ]
    },
    {
      "cell_type": "code",
      "execution_count": 8,
      "id": "1ec0fb60-37e5-4995-af0c-ae82fea69afc",
      "metadata": {
        "scrolled": true,
        "colab": {
          "base_uri": "https://localhost:8080/"
        },
        "id": "1ec0fb60-37e5-4995-af0c-ae82fea69afc",
        "outputId": "4cdc5579-fb5c-4805-cec4-fa94d116175e"
      },
      "outputs": [
        {
          "output_type": "stream",
          "name": "stderr",
          "text": [
            "Some weights of BertForSequenceClassification were not initialized from the model checkpoint at bert-base-uncased and are newly initialized: ['classifier.bias', 'classifier.weight']\n",
            "You should probably TRAIN this model on a down-stream task to be able to use it for predictions and inference.\n"
          ]
        },
        {
          "output_type": "execute_result",
          "data": {
            "text/plain": [
              "BertForSequenceClassification(\n",
              "  (bert): BertModel(\n",
              "    (embeddings): BertEmbeddings(\n",
              "      (word_embeddings): Embedding(30522, 768, padding_idx=0)\n",
              "      (position_embeddings): Embedding(512, 768)\n",
              "      (token_type_embeddings): Embedding(2, 768)\n",
              "      (LayerNorm): LayerNorm((768,), eps=1e-12, elementwise_affine=True)\n",
              "      (dropout): Dropout(p=0.1, inplace=False)\n",
              "    )\n",
              "    (encoder): BertEncoder(\n",
              "      (layer): ModuleList(\n",
              "        (0-11): 12 x BertLayer(\n",
              "          (attention): BertAttention(\n",
              "            (self): BertSdpaSelfAttention(\n",
              "              (query): Linear(in_features=768, out_features=768, bias=True)\n",
              "              (key): Linear(in_features=768, out_features=768, bias=True)\n",
              "              (value): Linear(in_features=768, out_features=768, bias=True)\n",
              "              (dropout): Dropout(p=0.1, inplace=False)\n",
              "            )\n",
              "            (output): BertSelfOutput(\n",
              "              (dense): Linear(in_features=768, out_features=768, bias=True)\n",
              "              (LayerNorm): LayerNorm((768,), eps=1e-12, elementwise_affine=True)\n",
              "              (dropout): Dropout(p=0.1, inplace=False)\n",
              "            )\n",
              "          )\n",
              "          (intermediate): BertIntermediate(\n",
              "            (dense): Linear(in_features=768, out_features=3072, bias=True)\n",
              "            (intermediate_act_fn): GELUActivation()\n",
              "          )\n",
              "          (output): BertOutput(\n",
              "            (dense): Linear(in_features=3072, out_features=768, bias=True)\n",
              "            (LayerNorm): LayerNorm((768,), eps=1e-12, elementwise_affine=True)\n",
              "            (dropout): Dropout(p=0.1, inplace=False)\n",
              "          )\n",
              "        )\n",
              "      )\n",
              "    )\n",
              "    (pooler): BertPooler(\n",
              "      (dense): Linear(in_features=768, out_features=768, bias=True)\n",
              "      (activation): Tanh()\n",
              "    )\n",
              "  )\n",
              "  (dropout): Dropout(p=0.1, inplace=False)\n",
              "  (classifier): Linear(in_features=768, out_features=5, bias=True)\n",
              ")"
            ]
          },
          "metadata": {},
          "execution_count": 8
        }
      ],
      "source": [
        "from transformers import BertForSequenceClassification\n",
        "num_classes = len(label_map) # 5\n",
        "bert_model = BertForSequenceClassification.from_pretrained(\"bert-base-uncased\", num_labels=num_classes)\n",
        "\n",
        "device = \"cuda\" if torch.cuda.is_available() else \"cpu\" # | Run this for nvidia GPU\n",
        "#device = \"mps\" if torch.backends.mps.is_available() else \"cpu\" # | Run this for mac\n",
        "device = torch.device(device)\n",
        "bert_model.to(device)\n",
        "\n",
        "bert_model"
      ]
    },
    {
      "cell_type": "markdown",
      "id": "ffba4ff4-36b4-456c-9a5f-5dea33ddb460",
      "metadata": {
        "id": "ffba4ff4-36b4-456c-9a5f-5dea33ddb460"
      },
      "source": [
        "## Training"
      ]
    },
    {
      "cell_type": "code",
      "execution_count": 9,
      "id": "a6165067-13fc-4073-a55b-2708ee904363",
      "metadata": {
        "colab": {
          "base_uri": "https://localhost:8080/"
        },
        "id": "a6165067-13fc-4073-a55b-2708ee904363",
        "outputId": "e89ea448-7491-46f0-d6c9-0a73ad78681c"
      },
      "outputs": [
        {
          "output_type": "execute_result",
          "data": {
            "text/plain": [
              "(CrossEntropyLoss(),\n",
              " Adam (\n",
              " Parameter Group 0\n",
              "     amsgrad: False\n",
              "     betas: (0.9, 0.999)\n",
              "     capturable: False\n",
              "     differentiable: False\n",
              "     eps: 1e-08\n",
              "     foreach: None\n",
              "     fused: None\n",
              "     lr: 1e-05\n",
              "     maximize: False\n",
              "     weight_decay: 0.01\n",
              " ))"
            ]
          },
          "metadata": {},
          "execution_count": 9
        }
      ],
      "source": [
        "from torch import nn\n",
        "loss_fn = nn.CrossEntropyLoss()\n",
        "optimizer = torch.optim.Adam(bert_model.parameters(), lr=1e-5, weight_decay=0.01)\n",
        "loss_fn, optimizer"
      ]
    },
    {
      "cell_type": "code",
      "execution_count": 10,
      "id": "003ddd59-8d6d-4aa4-a743-5af374ca31ae",
      "metadata": {
        "colab": {
          "base_uri": "https://localhost:8080/"
        },
        "id": "003ddd59-8d6d-4aa4-a743-5af374ca31ae",
        "outputId": "938df0c3-a4ed-4c79-8941-2bdfec462bc7"
      },
      "outputs": [
        {
          "output_type": "execute_result",
          "data": {
            "text/plain": [
              "device(type='cuda')"
            ]
          },
          "metadata": {},
          "execution_count": 10
        }
      ],
      "source": [
        "device"
      ]
    },
    {
      "cell_type": "code",
      "execution_count": 13,
      "id": "bb4fa7b6-d6ec-454c-8e91-3c3c56d5764e",
      "metadata": {
        "colab": {
          "base_uri": "https://localhost:8080/"
        },
        "id": "bb4fa7b6-d6ec-454c-8e91-3c3c56d5764e",
        "outputId": "87f48248-b5f3-4a4d-c336-1841ed863538"
      },
      "outputs": [
        {
          "output_type": "stream",
          "name": "stderr",
          "text": [
            "<ipython-input-13-e296d92f8049>:3: FutureWarning: `torch.cuda.amp.GradScaler(args...)` is deprecated. Please use `torch.amp.GradScaler('cuda', args...)` instead.\n",
            "  scaler = GradScaler()\n"
          ]
        }
      ],
      "source": [
        "from torch.cuda.amp import GradScaler, autocast\n",
        "from tqdm.auto import tqdm\n",
        "scaler = GradScaler()\n",
        "def train_bert(model,\n",
        "               train_dataloader,\n",
        "               test_dataloader,\n",
        "               loss_fn,\n",
        "               optimizer,\n",
        "               epochs,\n",
        "               device,\n",
        "               print_freq=10):\n",
        "    results = {\n",
        "        \"train_loss\": [],\n",
        "        \"train_accuracy\": [],\n",
        "        \"test_loss\": [],\n",
        "        \"test_accuracy\": []\n",
        "    }\n",
        "\n",
        "    for epoch in range(epochs):\n",
        "        model.train()\n",
        "        train_loss = 0\n",
        "        train_correct = 0\n",
        "        train_samples = 0\n",
        "\n",
        "        for step, batch in enumerate(tqdm(train_dataloader, desc=f\"Epoch {epoch + 1}/{epochs}\", leave=False)):\n",
        "            input_ids = batch['input_ids'].to(device)\n",
        "            attention_mask = batch['attention_mask'].to(device)\n",
        "            labels = batch['label'].to(device)\n",
        "\n",
        "            with autocast():  # Enable mixed precision\n",
        "                outputs = model(input_ids=input_ids, attention_mask=attention_mask, labels=labels)\n",
        "                loss = outputs.loss\n",
        "                logits = outputs.logits\n",
        "\n",
        "            optimizer.zero_grad()\n",
        "            scaler.scale(loss).backward()  # Scale the loss\n",
        "            scaler.step(optimizer)\n",
        "            scaler.update()\n",
        "\n",
        "            train_loss += loss.item()\n",
        "            predictions = torch.argmax(logits, dim=1)\n",
        "            train_correct += (predictions == labels).sum().item()\n",
        "            train_samples += labels.size(0)\n",
        "\n",
        "            if (step + 1) % print_freq == 0:\n",
        "                avg_loss = train_loss / (step + 1)\n",
        "                accuracy = train_correct / train_samples\n",
        "                print(f\"Step [{step + 1}/{len(train_dataloader)}], Loss: {avg_loss:.4f}, Accuracy: {accuracy:.4f}\")\n",
        "\n",
        "        avg_train_loss = train_loss / len(train_dataloader)\n",
        "        train_accuracy = train_correct / train_samples\n",
        "        results[\"train_loss\"].append(avg_train_loss)\n",
        "        results[\"train_accuracy\"].append(train_accuracy)\n",
        "\n",
        "        # Evaluation phase (similar adjustments for mixed precision)\n",
        "        model.eval()\n",
        "        test_loss = 0\n",
        "        test_correct = 0\n",
        "        test_samples = 0\n",
        "        with torch.no_grad():\n",
        "            for batch in test_dataloader:\n",
        "                input_ids = batch['input_ids'].to(device)\n",
        "                attention_mask = batch['attention_mask'].to(device)\n",
        "                labels = batch['label'].to(device)\n",
        "\n",
        "                with autocast():\n",
        "                    outputs = model(input_ids=input_ids, attention_mask=attention_mask, labels=labels)\n",
        "                    loss = outputs.loss\n",
        "                    logits = outputs.logits\n",
        "\n",
        "                test_loss += loss.item()\n",
        "                preds = torch.argmax(logits, dim=1)\n",
        "                test_correct += (preds == labels).sum().item()\n",
        "                test_samples += labels.size(0)\n",
        "\n",
        "        avg_test_loss = test_loss / len(test_dataloader)\n",
        "        test_accuracy = test_correct / test_samples\n",
        "        results[\"test_loss\"].append(avg_test_loss)\n",
        "        results[\"test_accuracy\"].append(test_accuracy)\n",
        "\n",
        "        print(f\"Epoch [{epoch + 1}/{epochs}] - Train Loss: {avg_train_loss:.4f}, Train Accuracy: {train_accuracy:.4f}, \"\n",
        "              f\"Test Loss: {avg_test_loss:.4f}, Test Accuracy: {test_accuracy:.4f}\")\n",
        "    return results\n"
      ]
    },
    {
      "cell_type": "code",
      "execution_count": 14,
      "id": "10d8cb8d-ae31-4833-962e-22314c298b9a",
      "metadata": {
        "colab": {
          "base_uri": "https://localhost:8080/",
          "height": 394,
          "referenced_widgets": [
            "f559502a61384d8895066de4905d7bdf",
            "af39de1ed03a47b7ad9513ef8d332a8c",
            "24d8020746bb464c8cd69bc35fa4cadf",
            "cfee43bbf82049efb6fbbe0490930f31",
            "00f422a7380b488a80c69b84d8479ae4",
            "498135911ebc4b05945003fc0396e2b3",
            "14c23facacb440638f9ef71480066f2c",
            "a0a9629453294ac6a6da8442ced3aa91",
            "ba67a3d57664494d844ee60eb2951d54",
            "57f1b16a8e804b24b7710c4e47a32ba3",
            "2788611a893f45819c9761f6d20108b8"
          ]
        },
        "id": "10d8cb8d-ae31-4833-962e-22314c298b9a",
        "outputId": "37c27f9e-4186-4ba2-aa6e-176c43fc390f"
      },
      "outputs": [
        {
          "output_type": "display_data",
          "data": {
            "text/plain": [
              "Epoch 1/1:   0%|          | 0/1407 [00:00<?, ?it/s]"
            ],
            "application/vnd.jupyter.widget-view+json": {
              "version_major": 2,
              "version_minor": 0,
              "model_id": "f559502a61384d8895066de4905d7bdf"
            }
          },
          "metadata": {}
        },
        {
          "output_type": "stream",
          "name": "stderr",
          "text": [
            "<ipython-input-13-e296d92f8049>:30: FutureWarning: `torch.cuda.amp.autocast(args...)` is deprecated. Please use `torch.amp.autocast('cuda', args...)` instead.\n",
            "  with autocast():  # Enable mixed precision\n",
            "/usr/local/lib/python3.10/dist-packages/torch/autograd/graph.py:825: UserWarning: cuDNN SDPA backward got grad_output.strides() != output.strides(), attempting to materialize a grad_output with matching strides... (Triggered internally at ../aten/src/ATen/native/cudnn/MHA.cpp:674.)\n",
            "  return Variable._execution_engine.run_backward(  # Calls into the C++ engine to run the backward pass\n"
          ]
        },
        {
          "output_type": "stream",
          "name": "stdout",
          "text": [
            "Step [100/1407], Loss: 1.0833, Accuracy: 0.6156\n",
            "Step [200/1407], Loss: 0.8648, Accuracy: 0.6968\n",
            "Step [300/1407], Loss: 0.7599, Accuracy: 0.7359\n",
            "Step [400/1407], Loss: 0.6936, Accuracy: 0.7589\n",
            "Step [500/1407], Loss: 0.6493, Accuracy: 0.7743\n",
            "Step [600/1407], Loss: 0.6154, Accuracy: 0.7862\n",
            "Step [700/1407], Loss: 0.5911, Accuracy: 0.7944\n",
            "Step [800/1407], Loss: 0.5728, Accuracy: 0.8005\n",
            "Step [900/1407], Loss: 0.5575, Accuracy: 0.8053\n",
            "Step [1000/1407], Loss: 0.5446, Accuracy: 0.8095\n",
            "Step [1100/1407], Loss: 0.5334, Accuracy: 0.8131\n",
            "Step [1200/1407], Loss: 0.5242, Accuracy: 0.8160\n",
            "Step [1300/1407], Loss: 0.5156, Accuracy: 0.8187\n",
            "Step [1400/1407], Loss: 0.5082, Accuracy: 0.8209\n"
          ]
        },
        {
          "output_type": "stream",
          "name": "stderr",
          "text": [
            "<ipython-input-13-e296d92f8049>:66: FutureWarning: `torch.cuda.amp.autocast(args...)` is deprecated. Please use `torch.amp.autocast('cuda', args...)` instead.\n",
            "  with autocast():\n"
          ]
        },
        {
          "output_type": "stream",
          "name": "stdout",
          "text": [
            "Epoch [1/1] - Train Loss: 0.5076, Train Accuracy: 0.8211, Test Loss: 0.4177, Test Accuracy: 0.8490\n"
          ]
        }
      ],
      "source": [
        "### Training the model\n",
        "EPOCHS = 1\n",
        "\n",
        "results = train_bert(\n",
        "    model = bert_model,\n",
        "    train_dataloader = train_dataloader,\n",
        "    test_dataloader = test_dataloader,\n",
        "    loss_fn = loss_fn,\n",
        "    optimizer = optimizer,\n",
        "    epochs = EPOCHS,\n",
        "    device = device,\n",
        "    print_freq = 100\n",
        ")"
      ]
    },
    {
      "cell_type": "code",
      "source": [
        "### Save the model\n",
        "save_path = root_dir + \"/bert_fine_tune_1.pth\"\n",
        "torch.save(bert_model.state_dict(), save_path)\n",
        "print(f\"Model state dictionary saved to {save_path}\")"
      ],
      "metadata": {
        "colab": {
          "base_uri": "https://localhost:8080/"
        },
        "id": "vrzFt0iJUeI_",
        "outputId": "3c3d1041-6dfa-4004-937d-ff5bf5598a94"
      },
      "id": "vrzFt0iJUeI_",
      "execution_count": 16,
      "outputs": [
        {
          "output_type": "stream",
          "name": "stdout",
          "text": [
            "Model state dictionary saved to /content/bert_fine_tune_1.pth\n"
          ]
        }
      ]
    },
    {
      "cell_type": "code",
      "execution_count": 18,
      "id": "b1284643-46a1-432b-9ad9-3ebfad4b0bef",
      "metadata": {
        "colab": {
          "base_uri": "https://localhost:8080/"
        },
        "id": "b1284643-46a1-432b-9ad9-3ebfad4b0bef",
        "outputId": "64926fa0-ca7b-4a7c-bfa6-e4a1dc8218a8"
      },
      "outputs": [
        {
          "output_type": "stream",
          "name": "stdout",
          "text": [
            "Predicted label: OBJECTIVE\n"
          ]
        }
      ],
      "source": [
        "itos = {\n",
        "    0: 'BACKGROUND',\n",
        "    1: 'OBJECTIVE',\n",
        "    2: 'METHODS',\n",
        "    3: 'RESULTS',\n",
        "    4: 'CONCLUSIONS'\n",
        "}\n",
        "bert_model.to(device)\n",
        "\n",
        "def predict_sample(text, model, tokenizer, label_map):\n",
        "    # Preprocess the input text\n",
        "    encoding = tokenizer(\n",
        "        text,\n",
        "        padding='max_length',\n",
        "        truncation=True,\n",
        "        max_length=512,\n",
        "        return_tensors='pt'\n",
        "    )\n",
        "\n",
        "    # Move tensors to the appropriate device\n",
        "    input_ids = encoding['input_ids'].to(device)\n",
        "    attention_mask = encoding['attention_mask'].to(device)\n",
        "\n",
        "    # Forward pass (no gradients needed for inference)\n",
        "    with torch.no_grad():\n",
        "        outputs = model(input_ids=input_ids, attention_mask=attention_mask)\n",
        "        logits = outputs.logits\n",
        "\n",
        "    # Get the predicted label\n",
        "    predicted_class = torch.argmax(logits, dim=1).item()\n",
        "    predicted_label = itos[predicted_class]\n",
        "\n",
        "    return predicted_label\n",
        "\n",
        "# Sample input text\n",
        "sample_text = \"This study analyzed liver function abnormalities in heart failure patients admitted with severe acute decompensated heart failure.\"\n",
        "predicted_label = predict_sample(sample_text, bert_model, tokenizer, label_map)\n",
        "print(f\"Predicted label: {predicted_label}\")"
      ]
    },
    {
      "cell_type": "code",
      "source": [
        "results"
      ],
      "metadata": {
        "colab": {
          "base_uri": "https://localhost:8080/"
        },
        "id": "Fqq4TTRFYG3h",
        "outputId": "30399d56-232e-4a25-e057-553afce8e619"
      },
      "id": "Fqq4TTRFYG3h",
      "execution_count": 31,
      "outputs": [
        {
          "output_type": "execute_result",
          "data": {
            "text/plain": [
              "{'train_loss': [0.507557946100418],\n",
              " 'train_accuracy': [0.8211064207953788],\n",
              " 'test_loss': [0.41773838335174623],\n",
              " 'test_accuracy': [0.8490459598473535]}"
            ]
          },
          "metadata": {},
          "execution_count": 31
        }
      ]
    },
    {
      "cell_type": "code",
      "source": [
        "import matplotlib.pyplot as plt\n",
        "\n",
        "train_loss = results['train_loss'][0]\n",
        "train_accuracy = results['train_accuracy'][0]\n",
        "test_loss = results['test_loss'][0]\n",
        "test_accuracy = results['test_accuracy'][0]\n",
        "\n",
        "# Data\n",
        "loss_metrics = ['Train Loss', 'Test Loss']\n",
        "loss_values = [train_loss, test_loss]\n",
        "accuracy_metrics = ['Train Accuracy', 'Test Accuracy']\n",
        "accuracy_values = [train_accuracy, test_accuracy]\n",
        "\n",
        "# Loss\n",
        "plt.figure(figsize=(10, 5))\n",
        "plt.subplot(1, 2, 1)\n",
        "plt.bar(loss_metrics, loss_values, color=['blue', 'orange'])\n",
        "plt.ylabel('Loss')\n",
        "plt.title('Training and Testing Loss')\n",
        "\n",
        "# Accuracy\n",
        "plt.subplot(1, 2, 2)\n",
        "plt.bar(accuracy_metrics, accuracy_values, color=['blue', 'orange'])\n",
        "plt.ylim(0, 1)\n",
        "plt.ylabel('Accuracy')\n",
        "plt.title('Training and Testing Accuracy')\n",
        "\n",
        "plt.tight_layout()\n",
        "plt.show()"
      ],
      "metadata": {
        "colab": {
          "base_uri": "https://localhost:8080/",
          "height": 507
        },
        "id": "ubCnJH-AXJ5v",
        "outputId": "ab52c2fa-017a-4f3e-d4b8-839b7425d35e"
      },
      "id": "ubCnJH-AXJ5v",
      "execution_count": 39,
      "outputs": [
        {
          "output_type": "display_data",
          "data": {
            "text/plain": [
              "<Figure size 1000x500 with 2 Axes>"
            ],
            "image/png": "[encoded data removed]"
          },
          "metadata": {}
        }
      ]
    },
    {
      "cell_type": "markdown",
      "source": [
        "## Untrained model vs Trained model\n",
        "Comparision for the sake of fine-tuning (checking if fine-tuning the model acctually helped)"
      ],
      "metadata": {
        "id": "Nab5w3oWaTeu"
      },
      "id": "Nab5w3oWaTeu"
    },
    {
      "cell_type": "code",
      "source": [
        "### Creating the model\n",
        "from transformers import BertConfig, BertForSequenceClassification\n",
        "config = BertConfig.from_pretrained(\"bert-base-uncased\", num_labels=num_classes)\n",
        "untrained_model = BertForSequenceClassification(config)\n",
        "untrained_model.to(device)"
      ],
      "metadata": {
        "colab": {
          "base_uri": "https://localhost:8080/"
        },
        "id": "0zmAoQ88YuFk",
        "outputId": "f146417a-5e41-4b54-ff8c-0344898e88c6"
      },
      "id": "0zmAoQ88YuFk",
      "execution_count": 41,
      "outputs": [
        {
          "output_type": "execute_result",
          "data": {
            "text/plain": [
              "BertForSequenceClassification(\n",
              "  (bert): BertModel(\n",
              "    (embeddings): BertEmbeddings(\n",
              "      (word_embeddings): Embedding(30522, 768, padding_idx=0)\n",
              "      (position_embeddings): Embedding(512, 768)\n",
              "      (token_type_embeddings): Embedding(2, 768)\n",
              "      (LayerNorm): LayerNorm((768,), eps=1e-12, elementwise_affine=True)\n",
              "      (dropout): Dropout(p=0.1, inplace=False)\n",
              "    )\n",
              "    (encoder): BertEncoder(\n",
              "      (layer): ModuleList(\n",
              "        (0-11): 12 x BertLayer(\n",
              "          (attention): BertAttention(\n",
              "            (self): BertSdpaSelfAttention(\n",
              "              (query): Linear(in_features=768, out_features=768, bias=True)\n",
              "              (key): Linear(in_features=768, out_features=768, bias=True)\n",
              "              (value): Linear(in_features=768, out_features=768, bias=True)\n",
              "              (dropout): Dropout(p=0.1, inplace=False)\n",
              "            )\n",
              "            (output): BertSelfOutput(\n",
              "              (dense): Linear(in_features=768, out_features=768, bias=True)\n",
              "              (LayerNorm): LayerNorm((768,), eps=1e-12, elementwise_affine=True)\n",
              "              (dropout): Dropout(p=0.1, inplace=False)\n",
              "            )\n",
              "          )\n",
              "          (intermediate): BertIntermediate(\n",
              "            (dense): Linear(in_features=768, out_features=3072, bias=True)\n",
              "            (intermediate_act_fn): GELUActivation()\n",
              "          )\n",
              "          (output): BertOutput(\n",
              "            (dense): Linear(in_features=3072, out_features=768, bias=True)\n",
              "            (LayerNorm): LayerNorm((768,), eps=1e-12, elementwise_affine=True)\n",
              "            (dropout): Dropout(p=0.1, inplace=False)\n",
              "          )\n",
              "        )\n",
              "      )\n",
              "    )\n",
              "    (pooler): BertPooler(\n",
              "      (dense): Linear(in_features=768, out_features=768, bias=True)\n",
              "      (activation): Tanh()\n",
              "    )\n",
              "  )\n",
              "  (dropout): Dropout(p=0.1, inplace=False)\n",
              "  (classifier): Linear(in_features=768, out_features=5, bias=True)\n",
              ")"
            ]
          },
          "metadata": {},
          "execution_count": 41
        }
      ]
    },
    {
      "cell_type": "code",
      "source": [
        "def evaluate_model(model,\n",
        "                   dataloader,\n",
        "                   loss_fn,\n",
        "                   device):\n",
        "    model.eval()\n",
        "    total_loss = 0\n",
        "    correct_predictions = 0\n",
        "    total_samples = 0\n",
        "\n",
        "    with torch.no_grad():\n",
        "        for batch in dataloader:\n",
        "            input_ids = batch['input_ids'].to(device)\n",
        "            attention_mask = batch['attention_mask'].to(device)\n",
        "            labels = batch['label'].to(device)\n",
        "            outputs = model(input_ids=input_ids, attention_mask=attention_mask, labels=labels)\n",
        "            loss = outputs.loss\n",
        "            logits = outputs.logits\n",
        "            total_loss += loss.item()\n",
        "            predictions = torch.argmax(logits, dim=1)\n",
        "            correct_predictions += (predictions == labels).sum().item()\n",
        "            total_samples += labels.size(0)\n",
        "\n",
        "    avg_loss = total_loss / len(dataloader)\n",
        "    accuracy = correct_predictions / total_samples\n",
        "    return avg_loss, accuracy\n",
        "\n",
        "# Eval both the models\n",
        "trained_test_loss, trained_test_accuracy = results['test_loss'][0], results['test_accuracy'][0] # Eval already done\n",
        "untrained_test_loss, untrained_test_accuracy = evaluate_model(\n",
        "    untrained_model,\n",
        "    test_dataloader,\n",
        "    loss_fn,\n",
        "    device\n",
        ")"
      ],
      "metadata": {
        "id": "7cqIjc1qaoH2"
      },
      "id": "7cqIjc1qaoH2",
      "execution_count": 42,
      "outputs": []
    },
    {
      "cell_type": "code",
      "source": [
        "### Plots to compare the models\n",
        "loss_metrics = ['Trained Model', 'Untrained Model']\n",
        "loss_values = [trained_test_loss, untrained_test_loss]\n",
        "accuracy_metrics = ['Trained Model', 'Untrained Model']\n",
        "accuracy_values = [trained_test_accuracy, untrained_test_accuracy]\n",
        "\n",
        "# Loss\n",
        "plt.figure(figsize=(10, 5))\n",
        "plt.subplot(1, 2, 1)\n",
        "plt.bar(loss_metrics, loss_values, color=['blue', 'orange'])\n",
        "plt.ylabel('Loss')\n",
        "plt.title('Test Loss (lower = better)')\n",
        "\n",
        "# Accuracy\n",
        "plt.subplot(1, 2, 2)\n",
        "plt.bar(accuracy_metrics, accuracy_values, color=['blue', 'orange'])\n",
        "plt.ylim(0, 1)\n",
        "plt.ylabel('Accuracy')\n",
        "plt.title('Test Accuracy (higher = better)')\n",
        "\n",
        "plt.tight_layout()\n",
        "plt.show()\n",
        "plt.savefig(root_dir + \"/model_comparision.png\")"
      ],
      "metadata": {
        "colab": {
          "base_uri": "https://localhost:8080/",
          "height": 524
        },
        "id": "IQzNS6Uua8i1",
        "outputId": "245e892f-317e-44db-aac5-c909c0b3b9a9"
      },
      "id": "IQzNS6Uua8i1",
      "execution_count": 46,
      "outputs": [
        {
          "output_type": "display_data",
          "data": {
            "text/plain": [
              "<Figure size 1000x500 with 2 Axes>"
            ],
            "image/png": "[encoded data removed]"
          },
          "metadata": {}
        },
        {
          "output_type": "display_data",
          "data": {
            "text/plain": [
              "<Figure size 640x480 with 0 Axes>"
            ]
          },
          "metadata": {}
        }
      ]
    },
    {
      "cell_type": "code",
      "source": [],
      "metadata": {
        "id": "v0W2cpsWblUc"
      },
      "id": "v0W2cpsWblUc",
      "execution_count": null,
      "outputs": []
    }
  ],
  "metadata": {
    "kernelspec": {
      "display_name": "Python 3",
      "name": "python3"
    },
    "language_info": {
      "codemirror_mode": {
        "name": "ipython",
        "version": 3
      },
      "file_extension": ".py",
      "mimetype": "text/x-python",
      "name": "python",
      "nbconvert_exporter": "python",
      "pygments_lexer": "ipython3",
      "version": "3.9.20"
    },
    "colab": {
      "provenance": [],
      "gpuType": "A100"
    },
    "accelerator": "GPU",
    "widgets": {
      "application/vnd.jupyter.widget-state+json": {
        "f559502a61384d8895066de4905d7bdf": {
          "model_module": "@jupyter-widgets/controls",
          "model_name": "HBoxModel",
          "model_module_version": "1.5.0",
          "state": {
            "_dom_classes": [],
            "_model_module": "@jupyter-widgets/controls",
            "_model_module_version": "1.5.0",
            "_model_name": "HBoxModel",
            "_view_count": null,
            "_view_module": "@jupyter-widgets/controls",
            "_view_module_version": "1.5.0",
            "_view_name": "HBoxView",
            "box_style": "",
            "children": [
              "IPY_MODEL_af39de1ed03a47b7ad9513ef8d332a8c",
              "IPY_MODEL_24d8020746bb464c8cd69bc35fa4cadf",
              "IPY_MODEL_cfee43bbf82049efb6fbbe0490930f31"
            ],
            "layout": "IPY_MODEL_00f422a7380b488a80c69b84d8479ae4"
          }
        },
        "af39de1ed03a47b7ad9513ef8d332a8c": {
          "model_module": "@jupyter-widgets/controls",
          "model_name": "HTMLModel",
          "model_module_version": "1.5.0",
          "state": {
            "_dom_classes": [],
            "_model_module": "@jupyter-widgets/controls",
            "_model_module_version": "1.5.0",
            "_model_name": "HTMLModel",
            "_view_count": null,
            "_view_module": "@jupyter-widgets/controls",
            "_view_module_version": "1.5.0",
            "_view_name": "HTMLView",
            "description": "",
            "description_tooltip": null,
            "layout": "IPY_MODEL_498135911ebc4b05945003fc0396e2b3",
            "placeholder": "​",
            "style": "IPY_MODEL_14c23facacb440638f9ef71480066f2c",
            "value": "Epoch 1/1: 100%"
          }
        },
        "24d8020746bb464c8cd69bc35fa4cadf": {
          "model_module": "@jupyter-widgets/controls",
          "model_name": "FloatProgressModel",
          "model_module_version": "1.5.0",
          "state": {
            "_dom_classes": [],
            "_model_module": "@jupyter-widgets/controls",
            "_model_module_version": "1.5.0",
            "_model_name": "FloatProgressModel",
            "_view_count": null,
            "_view_module": "@jupyter-widgets/controls",
            "_view_module_version": "1.5.0",
            "_view_name": "ProgressView",
            "bar_style": "",
            "description": "",
            "description_tooltip": null,
            "layout": "IPY_MODEL_a0a9629453294ac6a6da8442ced3aa91",
            "max": 1407,
            "min": 0,
            "orientation": "horizontal",
            "style": "IPY_MODEL_ba67a3d57664494d844ee60eb2951d54",
            "value": 1407
          }
        },
        "cfee43bbf82049efb6fbbe0490930f31": {
          "model_module": "@jupyter-widgets/controls",
          "model_name": "HTMLModel",
          "model_module_version": "1.5.0",
          "state": {
            "_dom_classes": [],
            "_model_module": "@jupyter-widgets/controls",
            "_model_module_version": "1.5.0",
            "_model_name": "HTMLModel",
            "_view_count": null,
            "_view_module": "@jupyter-widgets/controls",
            "_view_module_version": "1.5.0",
            "_view_name": "HTMLView",
            "description": "",
            "description_tooltip": null,
            "layout": "IPY_MODEL_57f1b16a8e804b24b7710c4e47a32ba3",
            "placeholder": "​",
            "style": "IPY_MODEL_2788611a893f45819c9761f6d20108b8",
            "value": " 1407/1407 [04:42&lt;00:00,  1.03it/s]"
          }
        },
        "00f422a7380b488a80c69b84d8479ae4": {
          "model_module": "@jupyter-widgets/base",
          "model_name": "LayoutModel",
          "model_module_version": "1.2.0",
          "state": {
            "_model_module": "@jupyter-widgets/base",
            "_model_module_version": "1.2.0",
            "_model_name": "LayoutModel",
            "_view_count": null,
            "_view_module": "@jupyter-widgets/base",
            "_view_module_version": "1.2.0",
            "_view_name": "LayoutView",
            "align_content": null,
            "align_items": null,
            "align_self": null,
            "border": null,
            "bottom": null,
            "display": null,
            "flex": null,
            "flex_flow": null,
            "grid_area": null,
            "grid_auto_columns": null,
            "grid_auto_flow": null,
            "grid_auto_rows": null,
            "grid_column": null,
            "grid_gap": null,
            "grid_row": null,
            "grid_template_areas": null,
            "grid_template_columns": null,
            "grid_template_rows": null,
            "height": null,
            "justify_content": null,
            "justify_items": null,
            "left": null,
            "margin": null,
            "max_height": null,
            "max_width": null,
            "min_height": null,
            "min_width": null,
            "object_fit": null,
            "object_position": null,
            "order": null,
            "overflow": null,
            "overflow_x": null,
            "overflow_y": null,
            "padding": null,
            "right": null,
            "top": null,
            "visibility": "hidden",
            "width": null
          }
        },
        "498135911ebc4b05945003fc0396e2b3": {
          "model_module": "@jupyter-widgets/base",
          "model_name": "LayoutModel",
          "model_module_version": "1.2.0",
          "state": {
            "_model_module": "@jupyter-widgets/base",
            "_model_module_version": "1.2.0",
            "_model_name": "LayoutModel",
            "_view_count": null,
            "_view_module": "@jupyter-widgets/base",
            "_view_module_version": "1.2.0",
            "_view_name": "LayoutView",
            "align_content": null,
            "align_items": null,
            "align_self": null,
            "border": null,
            "bottom": null,
            "display": null,
            "flex": null,
            "flex_flow": null,
            "grid_area": null,
            "grid_auto_columns": null,
            "grid_auto_flow": null,
            "grid_auto_rows": null,
            "grid_column": null,
            "grid_gap": null,
            "grid_row": null,
            "grid_template_areas": null,
            "grid_template_columns": null,
            "grid_template_rows": null,
            "height": null,
            "justify_content": null,
            "justify_items": null,
            "left": null,
            "margin": null,
            "max_height": null,
            "max_width": null,
            "min_height": null,
            "min_width": null,
            "object_fit": null,
            "object_position": null,
            "order": null,
            "overflow": null,
            "overflow_x": null,
            "overflow_y": null,
            "padding": null,
            "right": null,
            "top": null,
            "visibility": null,
            "width": null
          }
        },
        "14c23facacb440638f9ef71480066f2c": {
          "model_module": "@jupyter-widgets/controls",
          "model_name": "DescriptionStyleModel",
          "model_module_version": "1.5.0",
          "state": {
            "_model_module": "@jupyter-widgets/controls",
            "_model_module_version": "1.5.0",
            "_model_name": "DescriptionStyleModel",
            "_view_count": null,
            "_view_module": "@jupyter-widgets/base",
            "_view_module_version": "1.2.0",
            "_view_name": "StyleView",
            "description_width": ""
          }
        },
        "a0a9629453294ac6a6da8442ced3aa91": {
          "model_module": "@jupyter-widgets/base",
          "model_name": "LayoutModel",
          "model_module_version": "1.2.0",
          "state": {
            "_model_module": "@jupyter-widgets/base",
            "_model_module_version": "1.2.0",
            "_model_name": "LayoutModel",
            "_view_count": null,
            "_view_module": "@jupyter-widgets/base",
            "_view_module_version": "1.2.0",
            "_view_name": "LayoutView",
            "align_content": null,
            "align_items": null,
            "align_self": null,
            "border": null,
            "bottom": null,
            "display": null,
            "flex": null,
            "flex_flow": null,
            "grid_area": null,
            "grid_auto_columns": null,
            "grid_auto_flow": null,
            "grid_auto_rows": null,
            "grid_column": null,
            "grid_gap": null,
            "grid_row": null,
            "grid_template_areas": null,
            "grid_template_columns": null,
            "grid_template_rows": null,
            "height": null,
            "justify_content": null,
            "justify_items": null,
            "left": null,
            "margin": null,
            "max_height": null,
            "max_width": null,
            "min_height": null,
            "min_width": null,
            "object_fit": null,
            "object_position": null,
            "order": null,
            "overflow": null,
            "overflow_x": null,
            "overflow_y": null,
            "padding": null,
            "right": null,
            "top": null,
            "visibility": null,
            "width": null
          }
        },
        "ba67a3d57664494d844ee60eb2951d54": {
          "model_module": "@jupyter-widgets/controls",
          "model_name": "ProgressStyleModel",
          "model_module_version": "1.5.0",
          "state": {
            "_model_module": "@jupyter-widgets/controls",
            "_model_module_version": "1.5.0",
            "_model_name": "ProgressStyleModel",
            "_view_count": null,
            "_view_module": "@jupyter-widgets/base",
            "_view_module_version": "1.2.0",
            "_view_name": "StyleView",
            "bar_color": null,
            "description_width": ""
          }
        },
        "57f1b16a8e804b24b7710c4e47a32ba3": {
          "model_module": "@jupyter-widgets/base",
          "model_name": "LayoutModel",
          "model_module_version": "1.2.0",
          "state": {
            "_model_module": "@jupyter-widgets/base",
            "_model_module_version": "1.2.0",
            "_model_name": "LayoutModel",
            "_view_count": null,
            "_view_module": "@jupyter-widgets/base",
            "_view_module_version": "1.2.0",
            "_view_name": "LayoutView",
            "align_content": null,
            "align_items": null,
            "align_self": null,
            "border": null,
            "bottom": null,
            "display": null,
            "flex": null,
            "flex_flow": null,
            "grid_area": null,
            "grid_auto_columns": null,
            "grid_auto_flow": null,
            "grid_auto_rows": null,
            "grid_column": null,
            "grid_gap": null,
            "grid_row": null,
            "grid_template_areas": null,
            "grid_template_columns": null,
            "grid_template_rows": null,
            "height": null,
            "justify_content": null,
            "justify_items": null,
            "left": null,
            "margin": null,
            "max_height": null,
            "max_width": null,
            "min_height": null,
            "min_width": null,
            "object_fit": null,
            "object_position": null,
            "order": null,
            "overflow": null,
            "overflow_x": null,
            "overflow_y": null,
            "padding": null,
            "right": null,
            "top": null,
            "visibility": null,
            "width": null
          }
        },
        "2788611a893f45819c9761f6d20108b8": {
          "model_module": "@jupyter-widgets/controls",
          "model_name": "DescriptionStyleModel",
          "model_module_version": "1.5.0",
          "state": {
            "_model_module": "@jupyter-widgets/controls",
            "_model_module_version": "1.5.0",
            "_model_name": "DescriptionStyleModel",
            "_view_count": null,
            "_view_module": "@jupyter-widgets/base",
            "_view_module_version": "1.2.0",
            "_view_name": "StyleView",
            "description_width": ""
          }
        }
      }
    }
  },
  "nbformat": 4,
  "nbformat_minor": 5
}